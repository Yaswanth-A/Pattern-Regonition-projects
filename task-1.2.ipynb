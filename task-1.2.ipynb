{
  "cells": [
    {
      "cell_type": "markdown",
      "source": [
        "Importing the libraries\n",
        " "
      ],
      "metadata": {
        "id": "R9G-clg9mSqj"
      }
    },
    {
      "cell_type": "code",
      "execution_count": 1,
      "metadata": {
        "id": "3klUjgTELbOR"
      },
      "outputs": [],
      "source": [
        "import numpy as np\n",
        "import pandas as pd\n",
        "import io"
      ]
    },
    {
      "cell_type": "markdown",
      "source": [
        "Uploading the train.csv file"
      ],
      "metadata": {
        "id": "gkaDLW_6uHnr"
      }
    },
    {
      "cell_type": "code",
      "execution_count": 2,
      "metadata": {
        "colab": {
          "base_uri": "https://localhost:8080/",
          "height": 73
        },
        "id": "vEvSnL1jLfLV",
        "outputId": "5daebd07-9088-4f4a-c391-20ac1d713523"
      },
      "outputs": [
        {
          "output_type": "display_data",
          "data": {
            "text/plain": [
              "<IPython.core.display.HTML object>"
            ],
            "text/html": [
              "\n",
              "     <input type=\"file\" id=\"files-6f3d497b-a04f-4283-ad2c-437af5baf103\" name=\"files[]\" multiple disabled\n",
              "        style=\"border:none\" />\n",
              "     <output id=\"result-6f3d497b-a04f-4283-ad2c-437af5baf103\">\n",
              "      Upload widget is only available when the cell has been executed in the\n",
              "      current browser session. Please rerun this cell to enable.\n",
              "      </output>\n",
              "      <script>// Copyright 2017 Google LLC\n",
              "//\n",
              "// Licensed under the Apache License, Version 2.0 (the \"License\");\n",
              "// you may not use this file except in compliance with the License.\n",
              "// You may obtain a copy of the License at\n",
              "//\n",
              "//      http://www.apache.org/licenses/LICENSE-2.0\n",
              "//\n",
              "// Unless required by applicable law or agreed to in writing, software\n",
              "// distributed under the License is distributed on an \"AS IS\" BASIS,\n",
              "// WITHOUT WARRANTIES OR CONDITIONS OF ANY KIND, either express or implied.\n",
              "// See the License for the specific language governing permissions and\n",
              "// limitations under the License.\n",
              "\n",
              "/**\n",
              " * @fileoverview Helpers for google.colab Python module.\n",
              " */\n",
              "(function(scope) {\n",
              "function span(text, styleAttributes = {}) {\n",
              "  const element = document.createElement('span');\n",
              "  element.textContent = text;\n",
              "  for (const key of Object.keys(styleAttributes)) {\n",
              "    element.style[key] = styleAttributes[key];\n",
              "  }\n",
              "  return element;\n",
              "}\n",
              "\n",
              "// Max number of bytes which will be uploaded at a time.\n",
              "const MAX_PAYLOAD_SIZE = 100 * 1024;\n",
              "\n",
              "function _uploadFiles(inputId, outputId) {\n",
              "  const steps = uploadFilesStep(inputId, outputId);\n",
              "  const outputElement = document.getElementById(outputId);\n",
              "  // Cache steps on the outputElement to make it available for the next call\n",
              "  // to uploadFilesContinue from Python.\n",
              "  outputElement.steps = steps;\n",
              "\n",
              "  return _uploadFilesContinue(outputId);\n",
              "}\n",
              "\n",
              "// This is roughly an async generator (not supported in the browser yet),\n",
              "// where there are multiple asynchronous steps and the Python side is going\n",
              "// to poll for completion of each step.\n",
              "// This uses a Promise to block the python side on completion of each step,\n",
              "// then passes the result of the previous step as the input to the next step.\n",
              "function _uploadFilesContinue(outputId) {\n",
              "  const outputElement = document.getElementById(outputId);\n",
              "  const steps = outputElement.steps;\n",
              "\n",
              "  const next = steps.next(outputElement.lastPromiseValue);\n",
              "  return Promise.resolve(next.value.promise).then((value) => {\n",
              "    // Cache the last promise value to make it available to the next\n",
              "    // step of the generator.\n",
              "    outputElement.lastPromiseValue = value;\n",
              "    return next.value.response;\n",
              "  });\n",
              "}\n",
              "\n",
              "/**\n",
              " * Generator function which is called between each async step of the upload\n",
              " * process.\n",
              " * @param {string} inputId Element ID of the input file picker element.\n",
              " * @param {string} outputId Element ID of the output display.\n",
              " * @return {!Iterable<!Object>} Iterable of next steps.\n",
              " */\n",
              "function* uploadFilesStep(inputId, outputId) {\n",
              "  const inputElement = document.getElementById(inputId);\n",
              "  inputElement.disabled = false;\n",
              "\n",
              "  const outputElement = document.getElementById(outputId);\n",
              "  outputElement.innerHTML = '';\n",
              "\n",
              "  const pickedPromise = new Promise((resolve) => {\n",
              "    inputElement.addEventListener('change', (e) => {\n",
              "      resolve(e.target.files);\n",
              "    });\n",
              "  });\n",
              "\n",
              "  const cancel = document.createElement('button');\n",
              "  inputElement.parentElement.appendChild(cancel);\n",
              "  cancel.textContent = 'Cancel upload';\n",
              "  const cancelPromise = new Promise((resolve) => {\n",
              "    cancel.onclick = () => {\n",
              "      resolve(null);\n",
              "    };\n",
              "  });\n",
              "\n",
              "  // Wait for the user to pick the files.\n",
              "  const files = yield {\n",
              "    promise: Promise.race([pickedPromise, cancelPromise]),\n",
              "    response: {\n",
              "      action: 'starting',\n",
              "    }\n",
              "  };\n",
              "\n",
              "  cancel.remove();\n",
              "\n",
              "  // Disable the input element since further picks are not allowed.\n",
              "  inputElement.disabled = true;\n",
              "\n",
              "  if (!files) {\n",
              "    return {\n",
              "      response: {\n",
              "        action: 'complete',\n",
              "      }\n",
              "    };\n",
              "  }\n",
              "\n",
              "  for (const file of files) {\n",
              "    const li = document.createElement('li');\n",
              "    li.append(span(file.name, {fontWeight: 'bold'}));\n",
              "    li.append(span(\n",
              "        `(${file.type || 'n/a'}) - ${file.size} bytes, ` +\n",
              "        `last modified: ${\n",
              "            file.lastModifiedDate ? file.lastModifiedDate.toLocaleDateString() :\n",
              "                                    'n/a'} - `));\n",
              "    const percent = span('0% done');\n",
              "    li.appendChild(percent);\n",
              "\n",
              "    outputElement.appendChild(li);\n",
              "\n",
              "    const fileDataPromise = new Promise((resolve) => {\n",
              "      const reader = new FileReader();\n",
              "      reader.onload = (e) => {\n",
              "        resolve(e.target.result);\n",
              "      };\n",
              "      reader.readAsArrayBuffer(file);\n",
              "    });\n",
              "    // Wait for the data to be ready.\n",
              "    let fileData = yield {\n",
              "      promise: fileDataPromise,\n",
              "      response: {\n",
              "        action: 'continue',\n",
              "      }\n",
              "    };\n",
              "\n",
              "    // Use a chunked sending to avoid message size limits. See b/62115660.\n",
              "    let position = 0;\n",
              "    do {\n",
              "      const length = Math.min(fileData.byteLength - position, MAX_PAYLOAD_SIZE);\n",
              "      const chunk = new Uint8Array(fileData, position, length);\n",
              "      position += length;\n",
              "\n",
              "      const base64 = btoa(String.fromCharCode.apply(null, chunk));\n",
              "      yield {\n",
              "        response: {\n",
              "          action: 'append',\n",
              "          file: file.name,\n",
              "          data: base64,\n",
              "        },\n",
              "      };\n",
              "\n",
              "      let percentDone = fileData.byteLength === 0 ?\n",
              "          100 :\n",
              "          Math.round((position / fileData.byteLength) * 100);\n",
              "      percent.textContent = `${percentDone}% done`;\n",
              "\n",
              "    } while (position < fileData.byteLength);\n",
              "  }\n",
              "\n",
              "  // All done.\n",
              "  yield {\n",
              "    response: {\n",
              "      action: 'complete',\n",
              "    }\n",
              "  };\n",
              "}\n",
              "\n",
              "scope.google = scope.google || {};\n",
              "scope.google.colab = scope.google.colab || {};\n",
              "scope.google.colab._files = {\n",
              "  _uploadFiles,\n",
              "  _uploadFilesContinue,\n",
              "};\n",
              "})(self);\n",
              "</script> "
            ]
          },
          "metadata": {}
        },
        {
          "output_type": "stream",
          "name": "stdout",
          "text": [
            "Saving Train.csv to Train (2).csv\n"
          ]
        }
      ],
      "source": [
        "from google.colab import files\n",
        "uploaded = files.upload()"
      ]
    },
    {
      "cell_type": "markdown",
      "source": [
        "Using pandas to read the csv file and create feature_array and output_array "
      ],
      "metadata": {
        "id": "glPD6pxwuMg-"
      }
    },
    {
      "cell_type": "code",
      "execution_count": 4,
      "metadata": {
        "colab": {
          "base_uri": "https://localhost:8080/"
        },
        "id": "FqX58MgvLwjo",
        "outputId": "16a18991-a737-4164-aef1-02cc7bfda6d6"
      },
      "outputs": [
        {
          "output_type": "stream",
          "name": "stdout",
          "text": [
            "(10000, 100)\n",
            "(10000,)\n",
            "(10000, 101)\n"
          ]
        }
      ],
      "source": [
        "df = pd.read_csv(io.BytesIO(uploaded['Train.csv']),header = None)\n",
        "\n",
        "y = np.array(df[100].values )# gives a list\n",
        "x = np.array(df.drop(100,axis = 1))\n",
        "#x = feature_normalize(x) \n",
        "\n",
        "print(x.shape) \n",
        "print(y.shape)\n",
        "print(df.shape)\n",
        "#df\n"
      ]
    },
    {
      "cell_type": "markdown",
      "source": [
        "Splitting the data into training data and validation data"
      ],
      "metadata": {
        "id": "pTbEvcjrugS3"
      }
    },
    {
      "cell_type": "code",
      "execution_count": 5,
      "metadata": {
        "colab": {
          "base_uri": "https://localhost:8080/"
        },
        "id": "_mqOGfB-T22P",
        "outputId": "3c3fe38a-5807-4c55-f05f-d3e93c882ac6"
      },
      "outputs": [
        {
          "output_type": "stream",
          "name": "stdout",
          "text": [
            "(8000, 101) (8000,)\n",
            "(2000, 101) (2000,)\n"
          ]
        }
      ],
      "source": [
        "\n",
        "from sklearn.model_selection import train_test_split\n",
        "#we want to split the data into 70:20:10 ratio for training |validation |testing\n",
        "#train_size = 0.7\n",
        "x = np.column_stack((np.ones(len(x)),x)) # adds a column of 1 s to the given x\n",
        "\n",
        "x_train,x_valid,y_train,y_valid = train_test_split(x,y, train_size=0.8,random_state = 42)\n",
        "\n",
        "\n",
        "print(x_train.shape,y_train.shape)\n",
        "print(x_valid.shape,y_valid.shape)\n",
        "#print(x_test.shape,y_test.shape) "
      ]
    },
    {
      "cell_type": "markdown",
      "source": [
        "The least squares solution w_ml to the regression problem using the analytical solution"
      ],
      "metadata": {
        "id": "ktWo_KIuun9x"
      }
    },
    {
      "cell_type": "code",
      "execution_count": 6,
      "metadata": {
        "colab": {
          "base_uri": "https://localhost:8080/"
        },
        "id": "LzpPahDVUQFu",
        "outputId": "3bfdae76-d31a-475c-f170-f188d8a10042"
      },
      "outputs": [
        {
          "output_type": "stream",
          "name": "stdout",
          "text": [
            "(101,)\n"
          ]
        }
      ],
      "source": [
        "w_ml = np.matmul(np.linalg.inv(np.matmul(x_train.T,x_train)),np.matmul(x_train.T,y_train))\n",
        "print(w_ml.shape)"
      ]
    },
    {
      "cell_type": "markdown",
      "source": [
        "Defining a gradient descent function to store the thetas for different iterations"
      ],
      "metadata": {
        "id": "-sbf-dbruzYD"
      }
    },
    {
      "cell_type": "code",
      "execution_count": 7,
      "metadata": {
        "id": "hdO2wCB2Vu3b"
      },
      "outputs": [],
      "source": [
        "def gradient_descent_multi(X, y, theta, alpha, iterations):\n",
        "    #Fill Code Here\n",
        "    m = len(X)\n",
        "    lst = []\n",
        "   \n",
        "    for i in range(iterations):\n",
        "       \n",
        "        gradient =  np.matmul(np.matmul(X,theta) - y, X)/m\n",
        "        theta = theta - alpha * gradient\n",
        "        lst.append(theta)\n",
        "\n",
        "    return lst\n"
      ]
    },
    {
      "cell_type": "markdown",
      "source": [
        "Obtaining a list w using gradient_descent_multi function storing w for different iterations"
      ],
      "metadata": {
        "id": "iz07h4z3vYTS"
      }
    },
    {
      "cell_type": "code",
      "execution_count": 8,
      "metadata": {
        "id": "vy41n4F4WwoC"
      },
      "outputs": [],
      "source": [
        "theta = np.zeros(x_train.shape[1])\n",
        "w = gradient_descent_multi(x_train,y_train,theta,0.003,10001)\n"
      ]
    },
    {
      "cell_type": "markdown",
      "source": [
        "Plotting the norm of (w_t and w_ml) vs iterations "
      ],
      "metadata": {
        "id": "mcw8qIGyvj2r"
      }
    },
    {
      "cell_type": "code",
      "execution_count": 9,
      "metadata": {
        "colab": {
          "base_uri": "https://localhost:8080/",
          "height": 316
        },
        "id": "VvWy5cGraI90",
        "outputId": "80fe3603-8b87-44fb-ed8a-907465aace94"
      },
      "outputs": [
        {
          "output_type": "stream",
          "name": "stdout",
          "text": [
            "[1.2197654307126, 1.1928488120332754, 1.166543892153089, 1.1408364741091879, 1.1157126988517, 1.0911590370641322, 1.0671622811851178, 1.043709537626497, 1.0207882191828481, 0.9983860376276932, 0.9764909964917425, 0.9550913840186397, 0.934175766293795, 0.9137329805419994, 0.8937521285896195, 0.8742225704872865, 0.85513391828908, 0.8364760299843208, 0.8182390035781802, 0.8004131713174011, 0.7829890940575304, 0.7659575557681428, 0.7493095581726278, 0.7330363155191957, 0.7171292494798444, 0.7015799841741059, 0.6863803413144738, 0.6715223354704872, 0.6569981694485262, 0.642800229784441, 0.6289210823462134, 0.6153534680439146, 0.6020902986442949, 0.5891246526874048, 0.5764497715027102, 0.5640590553222236, 0.5519460594882513, 0.5401044907533876, 0.5285282036704703, 0.5172111970702536, 0.5061476106246197, 0.49533172149318627, 0.4847579410512434, 0.47442081169698463, 0.46431500373605145, 0.45443531234146584, 0.44477665458705995, 0.4353340665525686, 0.4261027004985885, 0.417077822109649, 0.40825480780369217, 0.39962914210628536, 0.39119641508794567, 0.3829523198629748, 0.37489265014826556, 0.36701329788055287, 0.35931025089063584, 0.35177959063311987, 0.3444174899702747, 0.33722021100862404, 0.33018410298692213, 0.32330560021420246, 0.31658122005661155, 0.3100075609717798, 0.3035813005894948, 0.2972991938374828, 0.29115807111112874, 0.2851548364859906, 0.27928646597198903, 0.27355000580818284, 0.2679425707970623, 0.2624613426773154, 0.25710356853405536, 0.25186655924550433, 0.24674768796516958, 0.24174438863856096, 0.23685415455351885, 0.23207453692324823, 0.22740314350118043, 0.22283763722679203, 0.21837573490154663, 0.21401520589413328, 0.2097538708742081, 0.20558960057385312, 0.20152031457600328, 0.19754398012909363, 0.19365861098721954, 0.18986226627510938, 0.18615304937723431, 0.18252910685040696, 0.17898862735922821, 0.17552984063377813, 0.1721510164489614, 0.16885046362493883, 0.16562652904810443, 0.1624775967120824, 0.1594020867782518, 0.15639845465532468, 0.1534651900975282, 0.150600816320964, 0.14780388913775244]\n"
          ]
        },
        {
          "output_type": "display_data",
          "data": {
            "text/plain": [
              "<Figure size 432x288 with 1 Axes>"
            ],
            "image/png": "[encoded data removed]"
          },
          "metadata": {
            "needs_background": "light"
          }
        }
      ],
      "source": [
        "import matplotlib.pyplot as plt\n",
        "t = np.linspace(1000,10000,101)\n",
        "a = []\n",
        "for i in range(1000,10001,90):\n",
        "  a.append(np.linalg.norm(w[i] - w_ml)) #if theta_1 changes after going into the gradient descent , then we get a wrong plot for the below code \n",
        "\n",
        "print(a)\n",
        "plt.plot(t,a)\n",
        "plt.xlabel('No of iterations')\n",
        "plt.ylabel('Norm of w_t and w_ml')\n",
        "plt.show() "
      ]
    },
    {
      "cell_type": "markdown",
      "source": [
        "Defining a cost function (error)"
      ],
      "metadata": {
        "id": "bUSiIw4hv3mG"
      }
    },
    {
      "cell_type": "code",
      "source": [
        "def compute_cost(X, y, w):\n",
        "    return np.sum(np.square(np.matmul(X,w) - y)) / (2 * len(y))"
      ],
      "metadata": {
        "id": "4glz8LR7m5c5"
      },
      "execution_count": 10,
      "outputs": []
    },
    {
      "cell_type": "markdown",
      "source": [
        "Plotting the validation_error vs regularization_lambda"
      ],
      "metadata": {
        "id": "adLnMZ6iwAEQ"
      }
    },
    {
      "cell_type": "code",
      "source": [
        "samp = np.linspace(0,1,100) # log plot eyyali\n",
        "validation_ridge = []\n",
        "for i in samp:\n",
        "    w_minimum = np.matmul(np.linalg.inv(np.matmul(x_train.T,x_train) + i*np.identity(np.matmul(x_train.T,x_train).shape[0])),np.matmul(x_train.T,y_train))\n",
        "    #print(w_minimum.shape)\n",
        "    validation_ridge.append(compute_cost(x_train,y_train,w_minimum))\n",
        "\n",
        "plt.plot(samp,validation_ridge)\n",
        "plt.xscale('log')\n",
        "plt.xlabel('regularization_lambda')\n",
        "plt.ylabel('Validation_error')\n",
        "plt.show()"
      ],
      "metadata": {
        "colab": {
          "base_uri": "https://localhost:8080/",
          "height": 295
        },
        "id": "JMFisPZGi-Ht",
        "outputId": "f4055b96-63c9-4938-ef7b-f975cc06ecc3"
      },
      "execution_count": 17,
      "outputs": [
        {
          "output_type": "display_data",
          "data": {
            "text/plain": [
              "<Figure size 432x288 with 1 Axes>"
            ],
            "image/png": "[encoded data removed]"
          },
          "metadata": {
            "needs_background": "light"
          }
        }
      ]
    },
    {
      "cell_type": "markdown",
      "source": [
        "Uploading test.csv file"
      ],
      "metadata": {
        "id": "x9xr9OmrwL2f"
      }
    },
    {
      "cell_type": "code",
      "source": [
        "from google.colab import files\n",
        "uploaded = files.upload()"
      ],
      "metadata": {
        "colab": {
          "base_uri": "https://localhost:8080/",
          "height": 73
        },
        "id": "siv3JuwfJtMd",
        "outputId": "00ad702d-b9b9-47d0-c181-61dd1dabc788"
      },
      "execution_count": 12,
      "outputs": [
        {
          "output_type": "display_data",
          "data": {
            "text/plain": [
              "<IPython.core.display.HTML object>"
            ],
            "text/html": [
              "\n",
              "     <input type=\"file\" id=\"files-ac9874aa-6a3d-4eac-aa06-e5faa5c03b68\" name=\"files[]\" multiple disabled\n",
              "        style=\"border:none\" />\n",
              "     <output id=\"result-ac9874aa-6a3d-4eac-aa06-e5faa5c03b68\">\n",
              "      Upload widget is only available when the cell has been executed in the\n",
              "      current browser session. Please rerun this cell to enable.\n",
              "      </output>\n",
              "      <script>// Copyright 2017 Google LLC\n",
              "//\n",
              "// Licensed under the Apache License, Version 2.0 (the \"License\");\n",
              "// you may not use this file except in compliance with the License.\n",
              "// You may obtain a copy of the License at\n",
              "//\n",
              "//      http://www.apache.org/licenses/LICENSE-2.0\n",
              "//\n",
              "// Unless required by applicable law or agreed to in writing, software\n",
              "// distributed under the License is distributed on an \"AS IS\" BASIS,\n",
              "// WITHOUT WARRANTIES OR CONDITIONS OF ANY KIND, either express or implied.\n",
              "// See the License for the specific language governing permissions and\n",
              "// limitations under the License.\n",
              "\n",
              "/**\n",
              " * @fileoverview Helpers for google.colab Python module.\n",
              " */\n",
              "(function(scope) {\n",
              "function span(text, styleAttributes = {}) {\n",
              "  const element = document.createElement('span');\n",
              "  element.textContent = text;\n",
              "  for (const key of Object.keys(styleAttributes)) {\n",
              "    element.style[key] = styleAttributes[key];\n",
              "  }\n",
              "  return element;\n",
              "}\n",
              "\n",
              "// Max number of bytes which will be uploaded at a time.\n",
              "const MAX_PAYLOAD_SIZE = 100 * 1024;\n",
              "\n",
              "function _uploadFiles(inputId, outputId) {\n",
              "  const steps = uploadFilesStep(inputId, outputId);\n",
              "  const outputElement = document.getElementById(outputId);\n",
              "  // Cache steps on the outputElement to make it available for the next call\n",
              "  // to uploadFilesContinue from Python.\n",
              "  outputElement.steps = steps;\n",
              "\n",
              "  return _uploadFilesContinue(outputId);\n",
              "}\n",
              "\n",
              "// This is roughly an async generator (not supported in the browser yet),\n",
              "// where there are multiple asynchronous steps and the Python side is going\n",
              "// to poll for completion of each step.\n",
              "// This uses a Promise to block the python side on completion of each step,\n",
              "// then passes the result of the previous step as the input to the next step.\n",
              "function _uploadFilesContinue(outputId) {\n",
              "  const outputElement = document.getElementById(outputId);\n",
              "  const steps = outputElement.steps;\n",
              "\n",
              "  const next = steps.next(outputElement.lastPromiseValue);\n",
              "  return Promise.resolve(next.value.promise).then((value) => {\n",
              "    // Cache the last promise value to make it available to the next\n",
              "    // step of the generator.\n",
              "    outputElement.lastPromiseValue = value;\n",
              "    return next.value.response;\n",
              "  });\n",
              "}\n",
              "\n",
              "/**\n",
              " * Generator function which is called between each async step of the upload\n",
              " * process.\n",
              " * @param {string} inputId Element ID of the input file picker element.\n",
              " * @param {string} outputId Element ID of the output display.\n",
              " * @return {!Iterable<!Object>} Iterable of next steps.\n",
              " */\n",
              "function* uploadFilesStep(inputId, outputId) {\n",
              "  const inputElement = document.getElementById(inputId);\n",
              "  inputElement.disabled = false;\n",
              "\n",
              "  const outputElement = document.getElementById(outputId);\n",
              "  outputElement.innerHTML = '';\n",
              "\n",
              "  const pickedPromise = new Promise((resolve) => {\n",
              "    inputElement.addEventListener('change', (e) => {\n",
              "      resolve(e.target.files);\n",
              "    });\n",
              "  });\n",
              "\n",
              "  const cancel = document.createElement('button');\n",
              "  inputElement.parentElement.appendChild(cancel);\n",
              "  cancel.textContent = 'Cancel upload';\n",
              "  const cancelPromise = new Promise((resolve) => {\n",
              "    cancel.onclick = () => {\n",
              "      resolve(null);\n",
              "    };\n",
              "  });\n",
              "\n",
              "  // Wait for the user to pick the files.\n",
              "  const files = yield {\n",
              "    promise: Promise.race([pickedPromise, cancelPromise]),\n",
              "    response: {\n",
              "      action: 'starting',\n",
              "    }\n",
              "  };\n",
              "\n",
              "  cancel.remove();\n",
              "\n",
              "  // Disable the input element since further picks are not allowed.\n",
              "  inputElement.disabled = true;\n",
              "\n",
              "  if (!files) {\n",
              "    return {\n",
              "      response: {\n",
              "        action: 'complete',\n",
              "      }\n",
              "    };\n",
              "  }\n",
              "\n",
              "  for (const file of files) {\n",
              "    const li = document.createElement('li');\n",
              "    li.append(span(file.name, {fontWeight: 'bold'}));\n",
              "    li.append(span(\n",
              "        `(${file.type || 'n/a'}) - ${file.size} bytes, ` +\n",
              "        `last modified: ${\n",
              "            file.lastModifiedDate ? file.lastModifiedDate.toLocaleDateString() :\n",
              "                                    'n/a'} - `));\n",
              "    const percent = span('0% done');\n",
              "    li.appendChild(percent);\n",
              "\n",
              "    outputElement.appendChild(li);\n",
              "\n",
              "    const fileDataPromise = new Promise((resolve) => {\n",
              "      const reader = new FileReader();\n",
              "      reader.onload = (e) => {\n",
              "        resolve(e.target.result);\n",
              "      };\n",
              "      reader.readAsArrayBuffer(file);\n",
              "    });\n",
              "    // Wait for the data to be ready.\n",
              "    let fileData = yield {\n",
              "      promise: fileDataPromise,\n",
              "      response: {\n",
              "        action: 'continue',\n",
              "      }\n",
              "    };\n",
              "\n",
              "    // Use a chunked sending to avoid message size limits. See b/62115660.\n",
              "    let position = 0;\n",
              "    do {\n",
              "      const length = Math.min(fileData.byteLength - position, MAX_PAYLOAD_SIZE);\n",
              "      const chunk = new Uint8Array(fileData, position, length);\n",
              "      position += length;\n",
              "\n",
              "      const base64 = btoa(String.fromCharCode.apply(null, chunk));\n",
              "      yield {\n",
              "        response: {\n",
              "          action: 'append',\n",
              "          file: file.name,\n",
              "          data: base64,\n",
              "        },\n",
              "      };\n",
              "\n",
              "      let percentDone = fileData.byteLength === 0 ?\n",
              "          100 :\n",
              "          Math.round((position / fileData.byteLength) * 100);\n",
              "      percent.textContent = `${percentDone}% done`;\n",
              "\n",
              "    } while (position < fileData.byteLength);\n",
              "  }\n",
              "\n",
              "  // All done.\n",
              "  yield {\n",
              "    response: {\n",
              "      action: 'complete',\n",
              "    }\n",
              "  };\n",
              "}\n",
              "\n",
              "scope.google = scope.google || {};\n",
              "scope.google.colab = scope.google.colab || {};\n",
              "scope.google.colab._files = {\n",
              "  _uploadFiles,\n",
              "  _uploadFilesContinue,\n",
              "};\n",
              "})(self);\n",
              "</script> "
            ]
          },
          "metadata": {}
        },
        {
          "output_type": "stream",
          "name": "stdout",
          "text": [
            "Saving test.csv to test (1).csv\n"
          ]
        }
      ]
    },
    {
      "cell_type": "markdown",
      "source": [
        "Defining a gradient_descent_ridge function to obtain w_r"
      ],
      "metadata": {
        "id": "U71hesW6wPEk"
      }
    },
    {
      "cell_type": "code",
      "source": [
        "def gradient_descent_ridge(X, y, theta,ridge,alpha, iterations):\n",
        "    #Fill Code Here\n",
        "    m = len(X)\n",
        "    lst_1 = []\n",
        "   \n",
        "    for i in range(iterations):\n",
        "       \n",
        "        gradient =  np.matmul(np.matmul(X,theta) - y, X)/m + (ridge/m)*theta\n",
        "        theta = theta - alpha * gradient\n",
        "        #lst_1.append(theta)\n",
        "\n",
        "    return theta"
      ],
      "metadata": {
        "id": "KkycMZxGraPM"
      },
      "execution_count": 13,
      "outputs": []
    },
    {
      "cell_type": "markdown",
      "source": [
        "Cost obtained by w_r is smaller than w_ml because by ridge_regression ,it works better on new_data (unseen_data).There is a chance that w_ml might overfit the train_data but it may not work better on new_data"
      ],
      "metadata": {
        "id": "2zrjvTnvw361"
      }
    },
    {
      "cell_type": "code",
      "source": [
        "df_test = pd.read_csv(io.BytesIO(uploaded['test.csv']),header = None)\n",
        "\n",
        "y_test = np.array(df_test[100].values )# gives a list\n",
        "x_test = df_test.drop(100,axis = 1).values\n",
        "x_test = np.column_stack((np.ones(len(x_test)),x_test))\n",
        "\n",
        "'''print(x_test.shape) \n",
        "print(y_test.shape)\n",
        "print(df_test.shape) '''\n",
        "\n",
        "theta = np.zeros(x_train.shape[1])\n",
        "w_r = gradient_descent_ridge(x_train, y_train, theta,0.01 ,0.003, 5000)\n",
        "print(w_r.shape)\n",
        "\n",
        "print(compute_cost(x_test,y_test,w_r))\n",
        "print(compute_cost(x_test,y_test,w_ml))\n"
      ],
      "metadata": {
        "colab": {
          "base_uri": "https://localhost:8080/"
        },
        "id": "KzNJAwZmnFs6",
        "outputId": "00ab469a-aed6-4154-c15a-425888960177"
      },
      "execution_count": 18,
      "outputs": [
        {
          "output_type": "stream",
          "name": "stdout",
          "text": [
            "(101,)\n",
            "0.14241261724114548\n",
            "0.18559141406846533\n"
          ]
        }
      ]
    },
    {
      "cell_type": "markdown",
      "source": [],
      "metadata": {
        "id": "mgrEGUtQw2xj"
      }
    }
  ],
  "metadata": {
    "colab": {
      "provenance": []
    },
    "kernelspec": {
      "display_name": "Python 3",
      "name": "python3"
    },
    "language_info": {
      "name": "python"
    }
  },
  "nbformat": 4,
  "nbformat_minor": 0
}